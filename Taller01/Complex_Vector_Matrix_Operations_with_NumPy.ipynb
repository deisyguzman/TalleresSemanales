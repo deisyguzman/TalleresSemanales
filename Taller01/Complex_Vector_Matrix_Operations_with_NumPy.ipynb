{
 "cells": [
  {
   "cell_type": "markdown",
   "id": "a07bd584",
   "metadata": {},
   "source": [
    "# Theory of Complex Vector Spaces\n",
    "Complex vector spaces extend the idea of real vector spaces by allowing vectors to have complex numbers as their components. In these spaces, vectors can be added together and multiplied by complex scalars to produce new vectors. Key operations in complex vector spaces include vector addition, scalar multiplication, vector negation, and complex conjugation."
   ]
  },
  {
   "cell_type": "markdown",
   "id": "f43fc972-23ab-4d81-aa26-c51325dac8f3",
   "metadata": {},
   "source": [
    "# Creating complex column vectors"
   ]
  },
  {
   "cell_type": "code",
   "execution_count": 1,
   "id": "029f08ba-1cdc-4928-9631-f62c51ab7aa5",
   "metadata": {},
   "outputs": [
    {
     "name": "stdout",
     "output_type": "stream",
     "text": [
      "Matrix:\n",
      " [[2 3]\n",
      " [1 4]]\n",
      "\n",
      "Vector:\n",
      " [5 6]\n",
      "\n",
      "Result of multiplication:\n",
      " [28 29]\n"
     ]
    }
   ],
   "source": [
    "import numpy as np\n",
    "\n",
    "# Define a 2x2 square matrix\n",
    "matrix = np.array([[2, 3],\n",
    "                   [1, 4]])\n",
    "\n",
    "# Define a vector of size 2\n",
    "vector = np.array([5, 6])\n",
    "\n",
    "# Multiply the matrix by the vector\n",
    "result = np.dot(matrix, vector)\n",
    "\n",
    "# Display the result\n",
    "print(\"Matrix:\\n\", matrix)\n",
    "print(\"\\nVector:\\n\", vector)\n",
    "print(\"\\nResult of multiplication:\\n\", result)\n"
   ]
  },
  {
   "cell_type": "markdown",
   "id": "975c2284",
   "metadata": {},
   "source": [
    "## Manipulating Complex Column Vectors using NumPy\n",
    "Here we demonstrate how to manipulate complex column vectors using NumPy, including operations like sum, negation, multiplication by a scalar, transpose, adjunct, and conjugate."
   ]
  },
  {
   "cell_type": "code",
   "execution_count": 8,
   "id": "e8058abe",
   "metadata": {},
   "outputs": [
    {
     "data": {
      "text/plain": [
       "(array([[3.+1.j],\n",
       "        [7.+1.j]]),\n",
       " array([[-1.-2.j],\n",
       "        [-3.+1.j]]),\n",
       " array([[0.+5.j],\n",
       "        [7.+1.j]]),\n",
       " array([[1.+2.j, 3.-1.j]]),\n",
       " array([[1.-2.j, 3.+1.j]]),\n",
       " array([[1.-2.j],\n",
       "        [3.+1.j]]))"
      ]
     },
     "execution_count": 8,
     "metadata": {},
     "output_type": "execute_result"
    }
   ],
   "source": [
    "\n",
    "import numpy as np\n",
    "\n",
    "# Define two complex column vectors\n",
    "v1 = np.array([[1+2j], [3-0j], [1+1j]])\n",
    "v2 = np.array([[1-1j], [3+2j], [4-4j]])\n",
    "                \n",
    "# Sum\n",
    "sum_v = v1 + v2\n",
    "\n",
    "# Negation\n",
    "neg_v1 = -v1\n",
    "\n",
    "# Multiplication by a scalar\n",
    "scalar = 2 + 1j\n",
    "mult_v1 = v1 * scalar\n",
    "\n",
    "# Transpose\n",
    "transpose_v1 = v1.T\n",
    "\n",
    "# Adjunct (Conjugate transpose)\n",
    "adjunct_v1 = v1.T.conj()\n",
    "\n",
    "# Conjugate\n",
    "conjugate_v1 = np.conjugate(v1)\n",
    "\n",
    "(sum_v, neg_v1, mult_v1, transpose_v1, adjunct_v1, conjugate_v1)\n"
   ]
  },
  {
   "cell_type": "markdown",
   "id": "995ae5fc",
   "metadata": {},
   "source": [
    "# Theory of Vector Spaces using Matrices\n",
    "In the context of matrices, vector spaces can be defined where each vector is a matrix of a particular size. Operations on these matrix-vector spaces include matrix addition, scalar multiplication, matrix negation, transpose, adjunct, and conjugate. In this section, we focus on square matrices of size 3x3."
   ]
  },
  {
   "cell_type": "markdown",
   "id": "9385c1f0",
   "metadata": {},
   "source": [
    "## Manipulating Square Matrices using NumPy\n",
    "Examples of how to manipulate 3x3 square matrices using NumPy, showing operations such as sum, negation, multiplication by a scalar, conjugate, transpose, and adjunct."
   ]
  },
  {
   "cell_type": "code",
   "execution_count": 3,
   "id": "b81ecc57",
   "metadata": {},
   "outputs": [
    {
     "data": {
      "text/plain": [
       "(array([[3.+3.j, 6.+0.j, 3.-3.j],\n",
       "        [1.+1.j, 2.+5.j, 6.-2.j],\n",
       "        [7.+3.j, 8.-2.j, 5.+3.j]]),\n",
       " array([[-2.-3.j, -4.+1.j, -0.-0.j],\n",
       "        [-1.-1.j, -3.-3.j, -5.-0.j],\n",
       "        [-4.-0.j, -6.+2.j, -1.+1.j]]),\n",
       " array([[-0.5+2.5j,  2.5+1.5j,  0. +0.j ],\n",
       "        [ 0. +1.j ,  0. +3.j ,  2.5+2.5j],\n",
       "        [ 2. +2.j ,  4. +2.j ,  1. +0.j ]]),\n",
       " array([[2.-3.j, 4.+1.j, 0.-0.j],\n",
       "        [1.-1.j, 3.-3.j, 5.-0.j],\n",
       "        [4.-0.j, 6.+2.j, 1.+1.j]]),\n",
       " array([[2.+3.j, 1.+1.j, 4.+0.j],\n",
       "        [4.-1.j, 3.+3.j, 6.-2.j],\n",
       "        [0.+0.j, 5.+0.j, 1.-1.j]]),\n",
       " array([[2.-3.j, 1.-1.j, 4.-0.j],\n",
       "        [4.+1.j, 3.-3.j, 6.+2.j],\n",
       "        [0.-0.j, 5.-0.j, 1.+1.j]]))"
      ]
     },
     "execution_count": 3,
     "metadata": {},
     "output_type": "execute_result"
    }
   ],
   "source": [
    "\n",
    "# Define two 3x3 complex matrices\n",
    "m1 = np.array([[2+3j, 4-1j, 0], \n",
    "               [1+1j, 3+3j, 5], \n",
    "               [4, 6-2j, 1-1j]])\n",
    "m2 = np.array([[1, 2+1j, 3-3j], \n",
    "               [0, -1+2j, 1-2j], \n",
    "               [3+3j, 2, 4+4j]])\n",
    "\n",
    "# Sum\n",
    "sum_m = m1 + m2\n",
    "\n",
    "# Negation\n",
    "neg_m1 = -m1\n",
    "\n",
    "# Multiplication by a scalar\n",
    "scalar = 0.5 + 0.5j\n",
    "mult_m1 = m1 * scalar\n",
    "\n",
    "# Conjugate\n",
    "conjugate_m1 = np.conjugate(m1)\n",
    "\n",
    "# Transpose\n",
    "transpose_m1 = m1.T\n",
    "\n",
    "# Adjunct (Conjugate transpose)\n",
    "adjunct_m1 = m1.T.conj()\n",
    "\n",
    "(sum_m, neg_m1, mult_m1, conjugate_m1, transpose_m1, adjunct_m1)\n"
   ]
  },
  {
   "cell_type": "markdown",
   "id": "ed909545-8a5c-4cca-85f7-48688b597598",
   "metadata": {},
   "source": [
    "## Checking the Dimension of a Matrix\n",
    "We can check the dimension of a matrix using the `.shape` attribute."
   ]
  },
  {
   "cell_type": "code",
   "execution_count": 4,
   "id": "0930dc10-af6d-427f-bbcb-75bfaf051db5",
   "metadata": {},
   "outputs": [
    {
     "data": {
      "text/plain": [
       "(3, 3)"
      ]
     },
     "execution_count": 4,
     "metadata": {},
     "output_type": "execute_result"
    }
   ],
   "source": [
    "# Checking the dimension of matrix1\n",
    "m1.shape"
   ]
  },
  {
   "cell_type": "markdown",
   "id": "b3fe896b",
   "metadata": {},
   "source": [
    "## Action of a Matrix on a Vector\n",
    "Finally, examples of how to use Python to multiply a 3x3 square matrix by a 3x1 column vector."
   ]
  },
  {
   "cell_type": "code",
   "execution_count": 5,
   "id": "e514d047",
   "metadata": {},
   "outputs": [
    {
     "data": {
      "text/plain": [
       "array([[11. -9.j],\n",
       "       [31.+13.j],\n",
       "       [32.-22.j]])"
      ]
     },
     "execution_count": 5,
     "metadata": {},
     "output_type": "execute_result"
    }
   ],
   "source": [
    "\n",
    "# Multiplying a 3x3 matrix by a 3x1 vector\n",
    "result = np.dot(m1, v1)\n",
    "result\n"
   ]
  },
  {
   "cell_type": "markdown",
   "id": "5adf9d8a-af43-4074-ab1a-3cabdc4accff",
   "metadata": {},
   "source": [
    "# Exercises on Complex Vectors and Matrices with Concrete Cases\n",
    "\n",
    "This set of exercises focuses on operations with complex column vectors and complex square matrices, including concrete cases with vectors and matrices written in LaTeX format.\n",
    "\n",
    "## Complex Column Vector Operations\n",
    "\n",
    "### Exercise 1: Sum of Two Complex Vectors\n",
    "Given two complex vectors \n",
    "$ v1 = \\begin{bmatrix} 1 + 2i \\\\ 3 - i \\end{bmatrix} $ \n",
    "and \n",
    "$ v2 = \\begin{bmatrix} 2 - i \\\\ 4 + 2i \\end{bmatrix} $, \n",
    "find their sum.\n",
    "\n",
    "### Exercise 2: Negation of a Complex Vector\n",
    "Given a complex vector \n",
    "$ v = \\begin{bmatrix} 2 + 3i \\\\ 1 - 2i \\end{bmatrix} $, \n",
    "find its negation.\n",
    "\n",
    "### Exercise 3: Multiplication of a Complex Vector by a Scalar\n",
    "Multiply the complex vector \n",
    "$ v = \\begin{bmatrix} 1 - i \\\\ 2 + 2i \\end{bmatrix} $ \n",
    "by the complex scalar $$ 3 + i $$.\n",
    "\n",
    "### Exercise 4: Transpose of a Complex Vector\n",
    "Find the transpose of the complex vector \n",
    "$ v = \\begin{bmatrix} 2 - i \\\\ 3 + 4i \\end{bmatrix} $.\n",
    "\n",
    "### Exercise 5: Conjugate of a Complex Vector\n",
    "Compute the conjugate of the complex vector \n",
    "$ v = \\begin{bmatrix} 1 + i \\\\ 2 - 3i \\end{bmatrix} $.\n",
    "\n",
    "### Exercise 6: Adjunct (Conjugate Transpose) of a Complex Vector\n",
    "Find the adjunct (or conjugate transpose) of the complex vector \n",
    "$ v = \\begin{bmatrix} 1 - 2i \\\\ 3 + i \\end{bmatrix} $.\n",
    "\n",
    "## Complex Square Matrix Operations\n",
    "\n",
    "### Exercise 7: Sum of Two Complex Matrices\n",
    "Given two complex matrices \n",
    "$ m1 = \\begin{bmatrix} 1 + i & 2 - i \\\\ 3 + 2i & 4 \\end{bmatrix} $\n",
    "and \n",
    "$ m2 = \\begin{bmatrix} 2 - 3i & 1 \\\\ i & 2 + 2i \\end{bmatrix} $, \n",
    "calculate their sum.\n",
    "\n",
    "### Exercise 8: Negation of a Complex Matrix\n",
    "Find the negation of the complex matrix \n",
    "$ m = \\begin{bmatrix} 2 + i & 3 \\\\ 1 - i & 2 + 2i \\end{bmatrix} $.\n",
    "\n",
    "### Exercise 9: Multiplication of a Complex Matrix by a Scalar\n",
    "Multiply the complex matrix \n",
    "$ m = \\begin{bmatrix} 1 - i & 2 \\\\ 3 + i & 4 - 2i \\end{bmatrix} $ \n",
    "by the complex scalar $$ 2 + 3i $$.\n",
    "\n",
    "### Exercise 10: Conjugate of a Complex Matrix\n",
    "Compute the conjugate of the complex matrix \n",
    "$ m = \\begin{bmatrix} 1 + i & 2 \\\\ 3 - i & 4 + 2i \\end{bmatrix} $.\n",
    "\n",
    "### Exercise 11: Transpose of a Complex Matrix\n",
    "Find the transpose of the complex matrix \n",
    "$ m = \\begin{bmatrix} 1 - i & 2 + 2i \\\\ 3 & 4 - i \\end{bmatrix} $.\n",
    "\n",
    "### Exercise 12: Adjunct (Conjugate Transpose) of a Complex Matrix\n",
    "Calculate the adjunct (or conjugate transpose) of the complex matrix \n",
    "$ m = \\begin{bmatrix} 1 + 2i & 3 - i \\\\ 4 & 5 + i \\end{bmatrix} $.\n",
    "\n",
    "### Exercise 13: Checking the Dimensions of a Matrix\n",
    "Determine the dimensions of the complex matrix \n",
    "$ m = \\begin{bmatrix} 1 - i & 2 \\\\ 3 + 2i & 4 - i \\end{bmatrix} $.\n",
    "\n",
    "## Multiplication of Matrices and Vectors\n",
    "\n",
    "### Exercise 14: Multiplying a Complex Square Matrix by a Complex Column Vector\n",
    "Multiply the complex square matrix \n",
    "$ m = \\begin{bmatrix} 1 + i & 2 - i \\\\ 3 & 4 + i \\end{bmatrix} $ \n",
    "by the complex column vector \n",
    "$ v = \\begin{bmatrix} 2 - i \\\\ 1 + 3i \\end{bmatrix} $.\n",
    "\n",
    "## Instructions\n",
    "For each exercise, ensure to display both the input (vectors/matrices) and the result of the operation.Use NumPy for these exercises to practice handling complex numbers and matrix operations in Python.\n"
   ]
  },
  {
   "attachments": {
    "image.png": {
     "image/png": "[encoded data removed]"
    }
   },
   "cell_type": "markdown",
   "id": "fa2808ff",
   "metadata": {},
   "source": [
    "### Solución ejercicio 1\n",
    "Given two complex vectors \n",
    "$ v1 = \\begin{bmatrix} 1 + 2i \\\\ 3 - i \\end{bmatrix} $ \n",
    "and \n",
    "$ v2 = \\begin{bmatrix} 2 - i \\\\ 4 + 2i \\end{bmatrix} $, \n",
    "find their sum.\n",
    "\n",
    "![image.png](attachment:image.png)"
   ]
  },
  {
   "cell_type": "code",
   "execution_count": 9,
   "id": "518f4b58",
   "metadata": {},
   "outputs": [
    {
     "name": "stdout",
     "output_type": "stream",
     "text": [
      "\n",
      "Resultado de la suma:\n",
      " [[3.+1.j]\n",
      " [7.+1.j]]\n"
     ]
    }
   ],
   "source": [
    "import numpy as np\n",
    "\n",
    "# Define two complex column vectors\n",
    "v1 = np.array([[1+2j], [3-1j]])\n",
    "v2 = np.array([[2-1j], [4+2j]])\n",
    "                \n",
    "# Sum\n",
    "sum_v = v1 + v2\n",
    "\n",
    "print(\"\\nResultado de la suma:\\n\", sum_v)"
   ]
  },
  {
   "attachments": {
    "image.png": {
     "image/png": "[encoded data removed]"
    }
   },
   "cell_type": "markdown",
   "id": "53f32dba",
   "metadata": {},
   "source": [
    "### Solución ejercicio 2\n",
    "Given a complex vector \n",
    "$ v = \\begin{bmatrix} 2 + 3i \\\\ 1 - 2i \\end{bmatrix} $, \n",
    "find its negation.\n",
    "\n",
    "![image.png](attachment:image.png)"
   ]
  },
  {
   "cell_type": "code",
   "execution_count": 12,
   "id": "4cac98d6",
   "metadata": {},
   "outputs": [
    {
     "name": "stdout",
     "output_type": "stream",
     "text": [
      "\n",
      "Resultado de la negación:\n",
      " [[-2.-3.j]\n",
      " [-1.+2.j]]\n"
     ]
    }
   ],
   "source": [
    "import numpy as np\n",
    "\n",
    "# Define complex column vector\n",
    "v1 = np.array([[2+3j], [1-2j]])\n",
    "\n",
    "# Negation\n",
    "neg_v1 = -v1\n",
    "\n",
    "print(\"\\nResultado de la negación:\\n\", neg_v1)"
   ]
  },
  {
   "attachments": {
    "image.png": {
     "image/png": "[encoded data removed]"
    }
   },
   "cell_type": "markdown",
   "id": "545319be",
   "metadata": {},
   "source": [
    "### Solución ejercicio 3\n",
    "Multiply the complex vector \n",
    "$ v = \\begin{bmatrix} 1 - i \\\\ 2 + 2i \\end{bmatrix} $ \n",
    "by the complex scalar $$ 3 + i $$\n",
    "\n",
    "![image.png](attachment:image.png)"
   ]
  },
  {
   "cell_type": "code",
   "execution_count": 16,
   "id": "ec46b672",
   "metadata": {},
   "outputs": [
    {
     "name": "stdout",
     "output_type": "stream",
     "text": [
      "\n",
      "Resultado de la multiplicación:\n",
      " [[4.-2.j]\n",
      " [4.+8.j]]\n"
     ]
    }
   ],
   "source": [
    "import numpy as np\n",
    "\n",
    "# Define complex column vector\n",
    "v1 = np.array([[1-1j], [2+2j]])\n",
    "\n",
    "# Multiplication by a scalar\n",
    "scalar = 3 + 1j\n",
    "mult_v1 = v1 * scalar\n",
    "\n",
    "print(\"\\nResultado de la multiplicación:\\n\", mult_v1)"
   ]
  },
  {
   "attachments": {
    "image.png": {
     "image/png": "[encoded data removed]"
    }
   },
   "cell_type": "markdown",
   "id": "018cf22f",
   "metadata": {},
   "source": [
    "### Solución ejercicio 4\n",
    "Find the transpose of the complex vector \n",
    "$ v = \\begin{bmatrix} 2 - i \\\\ 3 + 4i \\end{bmatrix} $\n",
    "\n",
    "![image.png](attachment:image.png)"
   ]
  },
  {
   "cell_type": "code",
   "execution_count": 17,
   "id": "1c8d1692",
   "metadata": {},
   "outputs": [
    {
     "name": "stdout",
     "output_type": "stream",
     "text": [
      "\n",
      "Resultado de la transpuesta:\n",
      " [[2.-1.j 3.+4.j]]\n"
     ]
    }
   ],
   "source": [
    "import numpy as np\n",
    "\n",
    "# Define two complex column vectors\n",
    "v1 = np.array([[2+-1j], [3+4j]])\n",
    "\n",
    "# Transpose\n",
    "transpose_v1 = v1.T\n",
    "print(\"\\nResultado de la transpuesta:\\n\", transpose_v1)"
   ]
  },
  {
   "attachments": {
    "image.png": {
     "image/png": "[encoded data removed]"
    }
   },
   "cell_type": "markdown",
   "id": "2faf7662",
   "metadata": {},
   "source": [
    "### Solución ejercicio 5\n",
    "Compute the conjugate of the complex vector \n",
    "$ v = \\begin{bmatrix} 1 + i \\\\ 2 - 3i \\end{bmatrix} $\n",
    "\n",
    "![image.png](attachment:image.png)"
   ]
  },
  {
   "cell_type": "code",
   "execution_count": 18,
   "id": "7cb1cecb",
   "metadata": {},
   "outputs": [
    {
     "name": "stdout",
     "output_type": "stream",
     "text": [
      "\n",
      "Resultado del conjugado:\n",
      " [[1.-1.j]\n",
      " [2.+3.j]]\n"
     ]
    }
   ],
   "source": [
    "import numpy as np\n",
    "\n",
    "# Definir el vector complejo\n",
    "v = np.array([[1+1j], [2-3j]])\n",
    "\n",
    "# Conjugado\n",
    "conjugate_v = np.conjugate(v)\n",
    "print(\"\\nResultado del conjugado:\\n\", conjugate_v)"
   ]
  },
  {
   "attachments": {
    "image.png": {
     "image/png": "[encoded data removed]"
    }
   },
   "cell_type": "markdown",
   "id": "7b8050d1",
   "metadata": {},
   "source": [
    "### Exercise 6: Adjunct (Conjugate Transpose) of a Complex Vector\n",
    "Find the adjunct (or conjugate transpose) of the complex vector \n",
    "$ v = \\begin{bmatrix} 1 - 2i \\\\ 3 + i \\end{bmatrix} $.\n",
    "\n",
    "![image.png](attachment:image.png)"
   ]
  },
  {
   "cell_type": "code",
   "execution_count": 19,
   "id": "9eae4a1d",
   "metadata": {},
   "outputs": [
    {
     "name": "stdout",
     "output_type": "stream",
     "text": [
      "\n",
      "Resultado del adjunto:\n",
      " [[1.+2.j 3.-1.j]]\n"
     ]
    }
   ],
   "source": [
    "import numpy as np\n",
    "\n",
    "# Definir el vector complejo\n",
    "v = np.array([[1-2j], [3+1j]])\n",
    "\n",
    "# Adjunto (transpuesta conjugada)\n",
    "adjunct_v = v.T.conj()\n",
    "print(\"\\nResultado del adjunto:\\n\", adjunct_v)"
   ]
  },
  {
   "attachments": {
    "image.png": {
     "image/png": "[encoded data removed]"
    }
   },
   "cell_type": "markdown",
   "id": "b60a4147",
   "metadata": {},
   "source": [
    "### Solución ejercicio 7\n",
    "Given two complex matrices \n",
    "$ m1 = \\begin{bmatrix} 1 + i & 2 - i \\\\ 3 + 2i & 4 \\end{bmatrix} $\n",
    "and \n",
    "$ m2 = \\begin{bmatrix} 2 - 3i & 1 \\\\ i & 2 + 2i \\end{bmatrix} $, \n",
    "calculate their sum.\n",
    "\n",
    "![image.png](attachment:image.png)"
   ]
  },
  {
   "cell_type": "code",
   "execution_count": 20,
   "id": "a30156fb",
   "metadata": {},
   "outputs": [
    {
     "name": "stdout",
     "output_type": "stream",
     "text": [
      "\n",
      "Resultado de la suma:\n",
      " [[3.-2.j 3.-1.j]\n",
      " [3.+3.j 6.+2.j]]\n"
     ]
    }
   ],
   "source": [
    "import numpy as np\n",
    "\n",
    "# Definir las matrices complejas\n",
    "m1 = np.array([[1+1j, 2-1j], [3+2j, 4]])\n",
    "m2 = np.array([[2-3j, 1], [0+1j, 2+2j]])\n",
    "\n",
    "# Suma\n",
    "sum_m = m1 + m2\n",
    "print(\"\\nResultado de la suma:\\n\", sum_m)"
   ]
  },
  {
   "attachments": {
    "image.png": {
     "image/png": "[encoded data removed]"
    }
   },
   "cell_type": "markdown",
   "id": "e84528af",
   "metadata": {},
   "source": [
    "### Solución ejercicio 8\n",
    "Find the negation of the complex matrix \n",
    "$ m = \\begin{bmatrix} 2 + i & 3 \\\\ 1 - i & 2 + 2i \\end{bmatrix} $\n",
    "\n",
    "![image.png](attachment:image.png)"
   ]
  },
  {
   "cell_type": "code",
   "execution_count": 21,
   "id": "1b8a42fe",
   "metadata": {},
   "outputs": [
    {
     "name": "stdout",
     "output_type": "stream",
     "text": [
      "\n",
      "Resultado de la negación:\n",
      " [[-2.-1.j -3.-0.j]\n",
      " [-1.+1.j -2.-2.j]]\n"
     ]
    }
   ],
   "source": [
    "import numpy as np\n",
    "\n",
    "# Definir la matriz compleja\n",
    "m = np.array([[2+1j, 3], [1-1j, 2+2j]])\n",
    "\n",
    "# Negación\n",
    "neg_m = -m\n",
    "print(\"\\nResultado de la negación:\\n\", neg_m)\n"
   ]
  },
  {
   "attachments": {
    "image.png": {
     "image/png": "[encoded data removed]"
    }
   },
   "cell_type": "markdown",
   "id": "9042d8d0",
   "metadata": {},
   "source": [
    "### Exercise 9: Multiplication of a Complex Matrix by a Scalar\n",
    "Multiply the complex matrix \n",
    "$ m = \\begin{bmatrix} 1 - i & 2 \\\\ 3 + i & 4 - 2i \\end{bmatrix} $ \n",
    "by the complex scalar $$ 2 + 3i $$\n",
    "\n",
    "![image.png](attachment:image.png)"
   ]
  },
  {
   "cell_type": "code",
   "execution_count": 22,
   "id": "6c51977e",
   "metadata": {},
   "outputs": [
    {
     "name": "stdout",
     "output_type": "stream",
     "text": [
      "\n",
      "Resultado de la multiplicación por un escalar:\n",
      " [[ 5. +1.j  4. +6.j]\n",
      " [ 3.+11.j 14. +8.j]]\n"
     ]
    }
   ],
   "source": [
    "import numpy as np\n",
    "\n",
    "# Definir la matriz compleja\n",
    "m = np.array([[1-1j, 2], [3+1j, 4-2j]])\n",
    "\n",
    "# Escalar complejo\n",
    "scalar = 2 + 3j\n",
    "\n",
    "# Multiplicación por el escalar\n",
    "mult_m = m * scalar\n",
    "print(\"\\nResultado de la multiplicación por un escalar:\\n\", mult_m)\n"
   ]
  },
  {
   "attachments": {
    "image.png": {
     "image/png": "[encoded data removed]"
    }
   },
   "cell_type": "markdown",
   "id": "912357b9",
   "metadata": {},
   "source": [
    "### Solución ejercicio 10\n",
    "Compute the conjugate of the complex matrix \n",
    "$ m = \\begin{bmatrix} 1 + i & 2 \\\\ 3 - i & 4 + 2i \\end{bmatrix} $\n",
    "\n",
    "![image.png](attachment:image.png)"
   ]
  },
  {
   "cell_type": "code",
   "execution_count": 23,
   "id": "7b22a13b",
   "metadata": {},
   "outputs": [
    {
     "name": "stdout",
     "output_type": "stream",
     "text": [
      "\n",
      "Resultado del conjugado:\n",
      " [[1.-1.j 2.-0.j]\n",
      " [3.+1.j 4.-2.j]]\n"
     ]
    }
   ],
   "source": [
    "import numpy as np\n",
    "\n",
    "# Definir la matriz compleja\n",
    "m = np.array([[1+1j, 2], [3-1j, 4+2j]])\n",
    "\n",
    "# Conjugado\n",
    "conjugate_m = np.conjugate(m)\n",
    "print(\"\\nResultado del conjugado:\\n\", conjugate_m)\n"
   ]
  },
  {
   "attachments": {
    "image.png": {
     "image/png": "[encoded data removed]"
    }
   },
   "cell_type": "markdown",
   "id": "07cf7d72",
   "metadata": {},
   "source": [
    "### Solución ejercicio 11\n",
    "Find the transpose of the complex matrix \n",
    "$ m = \\begin{bmatrix} 1 - i & 2 + 2i \\\\ 3 & 4 - i \\end{bmatrix} $\n",
    "\n",
    "![image.png](attachment:image.png)"
   ]
  },
  {
   "cell_type": "code",
   "execution_count": 24,
   "id": "57d6c0d8",
   "metadata": {},
   "outputs": [
    {
     "name": "stdout",
     "output_type": "stream",
     "text": [
      "\n",
      "Resultado de la transpuesta:\n",
      " [[1.-1.j 3.+0.j]\n",
      " [2.+2.j 4.-1.j]]\n"
     ]
    }
   ],
   "source": [
    "import numpy as np\n",
    "\n",
    "# Definir la matriz compleja\n",
    "m = np.array([[1-1j, 2+2j], [3, 4-1j]])\n",
    "\n",
    "# Transpuesta\n",
    "transpose_m = m.T\n",
    "print(\"\\nResultado de la transpuesta:\\n\", transpose_m)\n"
   ]
  },
  {
   "attachments": {
    "image.png": {
     "image/png": "[encoded data removed]"
    }
   },
   "cell_type": "markdown",
   "id": "102fb88e",
   "metadata": {},
   "source": [
    "### Solución ejercicio 12\n",
    "Calculate the adjunct (or conjugate transpose) of the complex matrix \n",
    "$ m = \\begin{bmatrix} 1 + 2i & 3 - i \\\\ 4 & 5 + i \\end{bmatrix} $\n",
    "\n",
    "![image.png](attachment:image.png)"
   ]
  },
  {
   "cell_type": "code",
   "execution_count": 25,
   "id": "88542c1b",
   "metadata": {},
   "outputs": [
    {
     "name": "stdout",
     "output_type": "stream",
     "text": [
      "\n",
      "Resultado del adjunto:\n",
      " [[1.-2.j 4.-0.j]\n",
      " [3.+1.j 5.-1.j]]\n"
     ]
    }
   ],
   "source": [
    "import numpy as np\n",
    "\n",
    "# Definir la matriz compleja\n",
    "m = np.array([[1+2j, 3-1j], [4, 5+1j]])\n",
    "\n",
    "# Adjunto (transpuesta conjugada)\n",
    "adjunct_m = m.T.conj()\n",
    "print(\"\\nResultado del adjunto:\\n\", adjunct_m)\n"
   ]
  },
  {
   "attachments": {
    "image.png": {
     "image/png": "[encoded data removed]"
    }
   },
   "cell_type": "markdown",
   "id": "74b0586c",
   "metadata": {},
   "source": [
    "### Solución ejercicio 13\n",
    "Determine the dimensions of the complex matrix \n",
    "$ m = \\begin{bmatrix} 1 - i & 2 \\\\ 3 + 2i & 4 - i \\end{bmatrix} $\n",
    "\n",
    "![image.png](attachment:image.png)"
   ]
  },
  {
   "cell_type": "code",
   "execution_count": 26,
   "id": "ab61273b",
   "metadata": {},
   "outputs": [
    {
     "name": "stdout",
     "output_type": "stream",
     "text": [
      "\n",
      "Dimensiones de la matriz:\n",
      " (2, 2)\n"
     ]
    }
   ],
   "source": [
    "import numpy as np\n",
    "\n",
    "# Definir la matriz compleja\n",
    "m = np.array([[1-1j, 2], [3+2j, 4-1j]])\n",
    "\n",
    "# Verificar las dimensiones\n",
    "dimensions_m = m.shape\n",
    "print(\"\\nDimensiones de la matriz:\\n\", dimensions_m)"
   ]
  },
  {
   "attachments": {
    "image.png": {
     "image/png": "[encoded data removed]"
    }
   },
   "cell_type": "markdown",
   "id": "43611223",
   "metadata": {},
   "source": [
    "### Solución ejercicio 14\n",
    "Multiply the complex square matrix \n",
    "$ m = \\begin{bmatrix} 1 + i & 2 - i \\\\ 3 & 4 + i \\end{bmatrix} $ \n",
    "by the complex column vector \n",
    "$ v = \\begin{bmatrix} 2 - i \\\\ 1 + 3i \\end{bmatrix} $\n",
    "\n",
    "![image.png](attachment:image.png)"
   ]
  },
  {
   "cell_type": "code",
   "execution_count": 27,
   "id": "12ac5c4e",
   "metadata": {},
   "outputs": [
    {
     "name": "stdout",
     "output_type": "stream",
     "text": [
      "\n",
      "Resultado de la multiplicación de la matriz por el vector:\n",
      " [[8. +6.j]\n",
      " [7.+10.j]]\n"
     ]
    }
   ],
   "source": [
    "import numpy as np\n",
    "\n",
    "# Definir la matriz cuadrada compleja\n",
    "m = np.array([[1+1j, 2-1j], [3, 4+1j]])\n",
    "\n",
    "# Definir el vector columna complejo\n",
    "v = np.array([[2-1j], [1+3j]])\n",
    "\n",
    "# Multiplicación de la matriz por el vector\n",
    "result = np.dot(m, v)\n",
    "print(\"\\nResultado de la multiplicación de la matriz por el vector:\\n\", result)"
   ]
  }
 ],
 "metadata": {
  "kernelspec": {
   "display_name": "Python 3 (ipykernel)",
   "language": "python",
   "name": "python3"
  },
  "language_info": {
   "codemirror_mode": {
    "name": "ipython",
    "version": 3
   },
   "file_extension": ".py",
   "mimetype": "text/x-python",
   "name": "python",
   "nbconvert_exporter": "python",
   "pygments_lexer": "ipython3",
   "version": "3.12.3"
  }
 },
 "nbformat": 4,
 "nbformat_minor": 5
}
